{
 "cells": [
  {
   "cell_type": "code",
   "execution_count": 4,
   "id": "1fd41513-b15b-4421-9a54-2c64dc91716b",
   "metadata": {
    "tags": []
   },
   "outputs": [
    {
     "name": "stdin",
     "output_type": "stream",
     "text": [
      "Skriv inn antall elever: 31\n"
     ]
    },
    {
     "name": "stdout",
     "output_type": "stream",
     "text": [
      "Du må kjøpe inn 8\n"
     ]
    }
   ],
   "source": [
    "#Oppgave 2 - Regne ut hvor mange pizzaer som skal kjøpes inn\n",
    "antall_elever = int(input(\"Skriv inn antall elever:\"))\n",
    "antall_pizza = antall_elever * 0.25\n",
    "antall_pizza_hel = int(antall_pizza) + (antall_pizza % 1 > 0)    #runder opp til nærmeste hele tall. Vi konverterer først antall_pizza til et heltall og legger til 1 hvis det er en desimaldel større enn 0\n",
    "\n",
    "print(\"Du må kjøpe inn\", antall_pizza_hel) "
   ]
  },
  {
   "cell_type": "code",
   "execution_count": null,
   "id": "538c479f-1090-4361-b191-cd8e68ce6822",
   "metadata": {},
   "outputs": [],
   "source": []
  }
 ],
 "metadata": {
  "kernelspec": {
   "display_name": "Python 3 (ipykernel)",
   "language": "python",
   "name": "python3"
  },
  "language_info": {
   "codemirror_mode": {
    "name": "ipython",
    "version": 3
   },
   "file_extension": ".py",
   "mimetype": "text/x-python",
   "name": "python",
   "nbconvert_exporter": "python",
   "pygments_lexer": "ipython3",
   "version": "3.11.5"
  }
 },
 "nbformat": 4,
 "nbformat_minor": 5
}
