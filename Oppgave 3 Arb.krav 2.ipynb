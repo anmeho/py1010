{
 "cells": [
  {
   "cell_type": "code",
   "execution_count": 11,
   "id": "f1a52307-e1f3-4ceb-a7bf-4b2122902f2b",
   "metadata": {
    "tags": []
   },
   "outputs": [
    {
     "name": "stdin",
     "output_type": "stream",
     "text": [
      "Skriv inn gradtallet 1456\n"
     ]
    },
    {
     "name": "stdout",
     "output_type": "stream",
     "text": [
      "Gradtallet 1456.0 grader er 25.41 radianer\n"
     ]
    }
   ],
   "source": [
    "#Oppgave 3\n",
    "\n",
    "#importerer biblioteket numpy\n",
    "import numpy as np\n",
    "\n",
    "v_grad = float(input(\"Skriv inn gradtallet\"))\n",
    "v_rad = v_grad*np.pi/180\n",
    "print(f\"Gradtallet {v_grad} grader er {v_rad:.2f} radianer\")\n"
   ]
  },
  {
   "cell_type": "code",
   "execution_count": null,
   "id": "8f17bc83-25de-40a6-8a32-9f80f5b912f5",
   "metadata": {},
   "outputs": [],
   "source": []
  },
  {
   "cell_type": "code",
   "execution_count": null,
   "id": "e795ac6c-393c-4fd2-9143-30851c9878d6",
   "metadata": {},
   "outputs": [],
   "source": []
  }
 ],
 "metadata": {
  "kernelspec": {
   "display_name": "Python 3 (ipykernel)",
   "language": "python",
   "name": "python3"
  },
  "language_info": {
   "codemirror_mode": {
    "name": "ipython",
    "version": 3
   },
   "file_extension": ".py",
   "mimetype": "text/x-python",
   "name": "python",
   "nbconvert_exporter": "python",
   "pygments_lexer": "ipython3",
   "version": "3.11.5"
  }
 },
 "nbformat": 4,
 "nbformat_minor": 5
}
