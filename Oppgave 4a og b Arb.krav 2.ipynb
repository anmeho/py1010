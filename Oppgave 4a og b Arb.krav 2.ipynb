{
 "cells": [
  {
   "cell_type": "code",
   "execution_count": null,
   "id": "3b2dba28-4a7f-4acc-97ba-5009cf38e66e",
   "metadata": {
    "tags": []
   },
   "outputs": [
    {
     "name": "stdout",
     "output_type": "stream",
     "text": [
      "{'Norge': ['Oslo', 0.634], 'England': ['London', 8.982], 'Frankrike': ['Paris', 2.161], 'Italia': ['Roma', 2.873]}\n"
     ]
    },
    {
     "name": "stdin",
     "output_type": "stream",
     "text": [
      "Skriv inn et land: Sverige\n"
     ]
    },
    {
     "name": "stdout",
     "output_type": "stream",
     "text": [
      "Landet finnes ikke i lista. Prøv å skrive inn et annet land\n"
     ]
    }
   ],
   "source": [
    "data = {\n",
    "    \"Norge\": [\"Oslo\", 0.634],\n",
    "    \"England\": [\"London\", 8.982],\n",
    "    \"Frankrike\": [\"Paris\", 2.161],\n",
    "    \"Italia\": [\"Roma\", 2.873]\n",
    "    }\n",
    "print(data)\n",
    "\n",
    "while True:\n",
    "    land = input(\"Skriv inn et land:\")\n",
    "\n",
    "    if land == \"Norge\":\n",
    "        print(\"Oslo er hovedstaden i Norge og det er 0.634 millioner innbyggere i Oslo\")\n",
    "    if land == \"England\":\n",
    "        print(\"London er hovedstaden i England og det er 8.982 millioner innbyggere i England\")\n",
    "    if land == \"Frankrike\":\n",
    "        print(\"Paris er hovedstaden i Frankrike og det er 2.161 millioner innbyggere i Frankrike\")\n",
    "    if land == \"Italia\":\n",
    "        print(\"Roma er hovedstaden i Italia og det er 2.873 millioner innbyggere i Italia\")\n",
    "\n",
    "    if land not in data:\n",
    "        print(\"Landet finnes ikke i lista. Prøv å skrive inn et annet land\")"
   ]
  },
  {
   "cell_type": "code",
   "execution_count": null,
   "id": "dff2f130-f41b-44eb-99cb-0acebb814cb9",
   "metadata": {},
   "outputs": [],
   "source": []
  },
  {
   "cell_type": "code",
   "execution_count": null,
   "id": "f4dad2f3-bc48-4688-9051-3a097cfa84fa",
   "metadata": {},
   "outputs": [],
   "source": [
    "Sverige"
   ]
  }
 ],
 "metadata": {
  "kernelspec": {
   "display_name": "Python 3 (ipykernel)",
   "language": "python",
   "name": "python3"
  },
  "language_info": {
   "codemirror_mode": {
    "name": "ipython",
    "version": 3
   },
   "file_extension": ".py",
   "mimetype": "text/x-python",
   "name": "python",
   "nbconvert_exporter": "python",
   "pygments_lexer": "ipython3",
   "version": "3.11.5"
  }
 },
 "nbformat": 4,
 "nbformat_minor": 5
}
