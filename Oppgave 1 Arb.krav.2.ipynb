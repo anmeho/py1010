{
 "cells": [
  {
   "cell_type": "code",
   "execution_count": 1,
   "id": "9dfb7aab-80b2-4286-85f4-a0d297013290",
   "metadata": {
    "tags": []
   },
   "outputs": [
    {
     "name": "stdin",
     "output_type": "stream",
     "text": [
      "Hvilket år er du født i? 1968\n"
     ]
    },
    {
     "name": "stdout",
     "output_type": "stream",
     "text": [
      "56\n"
     ]
    }
   ],
   "source": [
    "#Oppgave 1 - Regne ut hvor gammel personen er\n",
    "alder = int(input(\"Hvilket år er du født i?\"))\n",
    "år = 2024- alder\n",
    "print(år)"
   ]
  },
  {
   "cell_type": "code",
   "execution_count": null,
   "id": "6ed3de1f-3448-4848-a57a-bc9703b2e249",
   "metadata": {},
   "outputs": [],
   "source": []
  }
 ],
 "metadata": {
  "kernelspec": {
   "display_name": "Python 3 (ipykernel)",
   "language": "python",
   "name": "python3"
  },
  "language_info": {
   "codemirror_mode": {
    "name": "ipython",
    "version": 3
   },
   "file_extension": ".py",
   "mimetype": "text/x-python",
   "name": "python",
   "nbconvert_exporter": "python",
   "pygments_lexer": "ipython3",
   "version": "3.11.5"
  }
 },
 "nbformat": 4,
 "nbformat_minor": 5
}
