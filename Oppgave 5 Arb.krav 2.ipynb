{
 "cells": [
  {
   "cell_type": "code",
   "execution_count": 23,
   "id": "78a2b2e6-3f35-4985-b29e-9c3776634e02",
   "metadata": {
    "tags": []
   },
   "outputs": [
    {
     "name": "stdout",
     "output_type": "stream",
     "text": [
      "Den ytre omkretsen er: 9\n",
      "Det totalet arealet er: 6\n"
     ]
    }
   ],
   "source": [
    "from math import pi,sqrt\n",
    "\n",
    "a = 2\n",
    "b = 3\n",
    "\n",
    "r = a/2\n",
    "k1 = a\n",
    "k2 = b\n",
    "\n",
    "#Arealet av trekanten\n",
    "areal_trekant = k2*k1/2\n",
    "\n",
    "#Arealet av sirkelen\n",
    "areal_halvsirkel = pi*r**2\n",
    "\n",
    "#Lengde av hypotenusen\n",
    "hypotenus = sqrt(a**2 + b**2)\n",
    "c = hypotenus\n",
    "\n",
    "#Omkretsen av hele figuren\n",
    "ytre_omkrets = a + b + c\n",
    "\n",
    "#Arealet av hele figuren\n",
    "areal_tot = areal_trekant + areal_halvsirkel\n",
    "\n",
    "\n",
    "print(\"Den ytre omkretsen er:\",round(ytre_omkrets))\n",
    "print(\"Det totalet arealet er:\",round(areal_tot))"
   ]
  },
  {
   "cell_type": "code",
   "execution_count": null,
   "id": "177a6001-cba2-4e62-aad3-91d0dfc20536",
   "metadata": {},
   "outputs": [],
   "source": []
  }
 ],
 "metadata": {
  "kernelspec": {
   "display_name": "Python 3 (ipykernel)",
   "language": "python",
   "name": "python3"
  },
  "language_info": {
   "codemirror_mode": {
    "name": "ipython",
    "version": 3
   },
   "file_extension": ".py",
   "mimetype": "text/x-python",
   "name": "python",
   "nbconvert_exporter": "python",
   "pygments_lexer": "ipython3",
   "version": "3.11.5"
  }
 },
 "nbformat": 4,
 "nbformat_minor": 5
}
